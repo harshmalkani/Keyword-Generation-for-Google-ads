{
 "cells": [
  {
   "cell_type": "markdown",
   "metadata": {},
   "source": [
    " Assuming that the client is generally a low-cost retailer, often offering many promotions and discounts \n",
    "hence targeting the price sensitive customers.\n",
    " their products include Sofa,Recliner,Convertible Sofas.\n",
    " We want the resulting keywords: 'buy sofas', 'sofas buy', 'buy recliners', 'recliners buy','prices sofas', 'sofas prices', 'prices recliners', 'recliners prices'."
   ]
  },
  {
   "cell_type": "markdown",
   "metadata": {},
   "source": [
    "### List of words to pair with products which we might use to express the desire in buying low cost sofas. \n"
   ]
  },
  {
   "cell_type": "code",
   "execution_count": 26,
   "metadata": {},
   "outputs": [
    {
     "name": "stdout",
     "output_type": "stream",
     "text": [
      "['purchase', 'sale', 'bargain', 'affordable', 'shop online', 'ecommerce', 'low cost', 'low price', 'budget']\n"
     ]
    }
   ],
   "source": [
    "words = ['purchase', 'sale', 'bargain', 'affordable','shop online','ecommerce','low cost','low price', 'budget']\n",
    "\n",
    "print(words)"
   ]
  },
  {
   "cell_type": "markdown",
   "metadata": {},
   "source": [
    "### Combining the product name "
   ]
  },
  {
   "cell_type": "code",
   "execution_count": 27,
   "metadata": {},
   "outputs": [
    {
     "name": "stdout",
     "output_type": "stream",
     "text": [
      "[['sofas', 'sofas purchase'],\n",
      " ['purchase', 'purchase sofas'],\n",
      " ['sofas', 'sofas sale'],\n",
      " ['sale', 'sale sofas'],\n",
      " ['sofas', 'sofas bargain'],\n",
      " ['bargain', 'bargain sofas'],\n",
      " ['sofas', 'sofas affordable'],\n",
      " ['affordable', 'affordable sofas'],\n",
      " ['sofas', 'sofas shop online'],\n",
      " ['shop online', 'shop online sofas'],\n",
      " ['sofas', 'sofas ecommerce'],\n",
      " ['ecommerce', 'ecommerce sofas'],\n",
      " ['sofas', 'sofas low cost'],\n",
      " ['low cost', 'low cost sofas'],\n",
      " ['sofas', 'sofas low price'],\n",
      " ['low price', 'low price sofas'],\n",
      " ['sofas', 'sofas budget'],\n",
      " ['budget', 'budget sofas'],\n",
      " ['convertible sofas', 'convertible sofas purchase'],\n",
      " ['purchase', 'purchase convertible sofas'],\n",
      " ['convertible sofas', 'convertible sofas sale'],\n",
      " ['sale', 'sale convertible sofas'],\n",
      " ['convertible sofas', 'convertible sofas bargain'],\n",
      " ['bargain', 'bargain convertible sofas'],\n",
      " ['convertible sofas', 'convertible sofas affordable'],\n",
      " ['affordable', 'affordable convertible sofas'],\n",
      " ['convertible sofas', 'convertible sofas shop online'],\n",
      " ['shop online', 'shop online convertible sofas'],\n",
      " ['convertible sofas', 'convertible sofas ecommerce'],\n",
      " ['ecommerce', 'ecommerce convertible sofas'],\n",
      " ['convertible sofas', 'convertible sofas low cost'],\n",
      " ['low cost', 'low cost convertible sofas'],\n",
      " ['convertible sofas', 'convertible sofas low price'],\n",
      " ['low price', 'low price convertible sofas'],\n",
      " ['convertible sofas', 'convertible sofas budget'],\n",
      " ['budget', 'budget convertible sofas'],\n",
      " ['love seats', 'love seats purchase'],\n",
      " ['purchase', 'purchase love seats'],\n",
      " ['love seats', 'love seats sale'],\n",
      " ['sale', 'sale love seats'],\n",
      " ['love seats', 'love seats bargain'],\n",
      " ['bargain', 'bargain love seats'],\n",
      " ['love seats', 'love seats affordable'],\n",
      " ['affordable', 'affordable love seats'],\n",
      " ['love seats', 'love seats shop online'],\n",
      " ['shop online', 'shop online love seats'],\n",
      " ['love seats', 'love seats ecommerce'],\n",
      " ['ecommerce', 'ecommerce love seats'],\n",
      " ['love seats', 'love seats low cost'],\n",
      " ['low cost', 'low cost love seats'],\n",
      " ['love seats', 'love seats low price'],\n",
      " ['low price', 'low price love seats'],\n",
      " ['love seats', 'love seats budget'],\n",
      " ['budget', 'budget love seats'],\n",
      " ['recliners', 'recliners purchase'],\n",
      " ['purchase', 'purchase recliners'],\n",
      " ['recliners', 'recliners sale'],\n",
      " ['sale', 'sale recliners'],\n",
      " ['recliners', 'recliners bargain'],\n",
      " ['bargain', 'bargain recliners'],\n",
      " ['recliners', 'recliners affordable'],\n",
      " ['affordable', 'affordable recliners'],\n",
      " ['recliners', 'recliners shop online'],\n",
      " ['shop online', 'shop online recliners'],\n",
      " ['recliners', 'recliners ecommerce'],\n",
      " ['ecommerce', 'ecommerce recliners'],\n",
      " ['recliners', 'recliners low cost'],\n",
      " ['low cost', 'low cost recliners'],\n",
      " ['recliners', 'recliners low price'],\n",
      " ['low price', 'low price recliners'],\n",
      " ['recliners', 'recliners budget'],\n",
      " ['budget', 'budget recliners'],\n",
      " ['sofa beds', 'sofa beds purchase'],\n",
      " ['purchase', 'purchase sofa beds'],\n",
      " ['sofa beds', 'sofa beds sale'],\n",
      " ['sale', 'sale sofa beds'],\n",
      " ['sofa beds', 'sofa beds bargain'],\n",
      " ['bargain', 'bargain sofa beds'],\n",
      " ['sofa beds', 'sofa beds affordable'],\n",
      " ['affordable', 'affordable sofa beds'],\n",
      " ['sofa beds', 'sofa beds shop online'],\n",
      " ['shop online', 'shop online sofa beds'],\n",
      " ['sofa beds', 'sofa beds ecommerce'],\n",
      " ['ecommerce', 'ecommerce sofa beds'],\n",
      " ['sofa beds', 'sofa beds low cost'],\n",
      " ['low cost', 'low cost sofa beds'],\n",
      " ['sofa beds', 'sofa beds low price'],\n",
      " ['low price', 'low price sofa beds'],\n",
      " ['sofa beds', 'sofa beds budget'],\n",
      " ['budget', 'budget sofa beds']]\n"
     ]
    }
   ],
   "source": [
    "products = ['sofas', 'convertible sofas', 'love seats', 'recliners', 'sofa beds']\n",
    "\n",
    "keywords_list = []\n",
    "\n",
    "for product in products:\n",
    "    for word in words:\n",
    "        keywords_list.append([product, product + ' ' + word])\n",
    "        keywords_list.append([word, word + ' ' + product])\n",
    "        \n",
    "\n",
    "from pprint import pprint\n",
    "pprint(keywords_list)"
   ]
  },
  {
   "cell_type": "markdown",
   "metadata": {},
   "source": [
    "### Converting list into a DataFrame"
   ]
  },
  {
   "cell_type": "code",
   "execution_count": 28,
   "metadata": {},
   "outputs": [
    {
     "name": "stdout",
     "output_type": "stream",
     "text": [
      "            0                    1\n",
      "0       sofas       sofas purchase\n",
      "1    purchase       purchase sofas\n",
      "2       sofas           sofas sale\n",
      "3        sale           sale sofas\n",
      "4       sofas        sofas bargain\n",
      "..        ...                  ...\n",
      "85   low cost   low cost sofa beds\n",
      "86  sofa beds  sofa beds low price\n",
      "87  low price  low price sofa beds\n",
      "88  sofa beds     sofa beds budget\n",
      "89     budget     budget sofa beds\n",
      "\n",
      "[90 rows x 2 columns]\n"
     ]
    }
   ],
   "source": [
    "import pandas as pd \n",
    "\n",
    "# Creating a dataframe from list\n",
    "keywords_df = pd.DataFrame.from_records(keywords_list)\n",
    "\n",
    "print(keywords_df)"
   ]
  },
  {
   "cell_type": "code",
   "execution_count": 29,
   "metadata": {},
   "outputs": [
    {
     "data": {
      "text/html": [
       "<div>\n",
       "<style scoped>\n",
       "    .dataframe tbody tr th:only-of-type {\n",
       "        vertical-align: middle;\n",
       "    }\n",
       "\n",
       "    .dataframe tbody tr th {\n",
       "        vertical-align: top;\n",
       "    }\n",
       "\n",
       "    .dataframe thead th {\n",
       "        text-align: right;\n",
       "    }\n",
       "</style>\n",
       "<table border=\"1\" class=\"dataframe\">\n",
       "  <thead>\n",
       "    <tr style=\"text-align: right;\">\n",
       "      <th></th>\n",
       "      <th>Ad Group</th>\n",
       "      <th>Keyword</th>\n",
       "    </tr>\n",
       "  </thead>\n",
       "  <tbody>\n",
       "    <tr>\n",
       "      <th>0</th>\n",
       "      <td>sofas</td>\n",
       "      <td>sofas purchase</td>\n",
       "    </tr>\n",
       "    <tr>\n",
       "      <th>1</th>\n",
       "      <td>purchase</td>\n",
       "      <td>purchase sofas</td>\n",
       "    </tr>\n",
       "    <tr>\n",
       "      <th>2</th>\n",
       "      <td>sofas</td>\n",
       "      <td>sofas sale</td>\n",
       "    </tr>\n",
       "    <tr>\n",
       "      <th>3</th>\n",
       "      <td>sale</td>\n",
       "      <td>sale sofas</td>\n",
       "    </tr>\n",
       "    <tr>\n",
       "      <th>4</th>\n",
       "      <td>sofas</td>\n",
       "      <td>sofas bargain</td>\n",
       "    </tr>\n",
       "    <tr>\n",
       "      <th>...</th>\n",
       "      <td>...</td>\n",
       "      <td>...</td>\n",
       "    </tr>\n",
       "    <tr>\n",
       "      <th>85</th>\n",
       "      <td>low cost</td>\n",
       "      <td>low cost sofa beds</td>\n",
       "    </tr>\n",
       "    <tr>\n",
       "      <th>86</th>\n",
       "      <td>sofa beds</td>\n",
       "      <td>sofa beds low price</td>\n",
       "    </tr>\n",
       "    <tr>\n",
       "      <th>87</th>\n",
       "      <td>low price</td>\n",
       "      <td>low price sofa beds</td>\n",
       "    </tr>\n",
       "    <tr>\n",
       "      <th>88</th>\n",
       "      <td>sofa beds</td>\n",
       "      <td>sofa beds budget</td>\n",
       "    </tr>\n",
       "    <tr>\n",
       "      <th>89</th>\n",
       "      <td>budget</td>\n",
       "      <td>budget sofa beds</td>\n",
       "    </tr>\n",
       "  </tbody>\n",
       "</table>\n",
       "<p>90 rows × 2 columns</p>\n",
       "</div>"
      ],
      "text/plain": [
       "     Ad Group              Keyword\n",
       "0       sofas       sofas purchase\n",
       "1    purchase       purchase sofas\n",
       "2       sofas           sofas sale\n",
       "3        sale           sale sofas\n",
       "4       sofas        sofas bargain\n",
       "..        ...                  ...\n",
       "85   low cost   low cost sofa beds\n",
       "86  sofa beds  sofa beds low price\n",
       "87  low price  low price sofa beds\n",
       "88  sofa beds     sofa beds budget\n",
       "89     budget     budget sofa beds\n",
       "\n",
       "[90 rows x 2 columns]"
      ]
     },
     "execution_count": 29,
     "metadata": {},
     "output_type": "execute_result"
    }
   ],
   "source": [
    "# Rename the columns of the DataFrame\n",
    "keywords_df.columns=['Ad Group','Keyword']\n",
    "keywords_df"
   ]
  },
  {
   "cell_type": "markdown",
   "metadata": {},
   "source": [
    "### Add a column name for tracking the campaign name "
   ]
  },
  {
   "cell_type": "code",
   "execution_count": 30,
   "metadata": {},
   "outputs": [
    {
     "name": "stdout",
     "output_type": "stream",
     "text": [
      "     Ad Group              Keyword   Campaign\n",
      "0       sofas       sofas purchase  Campaign1\n",
      "1    purchase       purchase sofas  Campaign1\n",
      "2       sofas           sofas sale  Campaign1\n",
      "3        sale           sale sofas  Campaign1\n",
      "4       sofas        sofas bargain  Campaign1\n",
      "..        ...                  ...        ...\n",
      "85   low cost   low cost sofa beds  Campaign1\n",
      "86  sofa beds  sofa beds low price  Campaign1\n",
      "87  low price  low price sofa beds  Campaign1\n",
      "88  sofa beds     sofa beds budget  Campaign1\n",
      "89     budget     budget sofa beds  Campaign1\n",
      "\n",
      "[90 rows x 3 columns]\n"
     ]
    }
   ],
   "source": [
    "\n",
    "keywords_df.insert(2,'Campaign','Campaign1')\n",
    "print(keywords_df)\n"
   ]
  },
  {
   "cell_type": "markdown",
   "metadata": {},
   "source": [
    "### Add a criterion type column\n"
   ]
  },
  {
   "cell_type": "markdown",
   "metadata": {},
   "source": [
    "There are different keyword match types. One is exact match, which is for matching the exact term or are close variations of that exact term. Another match type is broad match, which means ads may show on searches that include misspellings, synonyms, related searches, and other relevant variations."
   ]
  },
  {
   "cell_type": "code",
   "execution_count": 31,
   "metadata": {},
   "outputs": [
    {
     "name": "stdout",
     "output_type": "stream",
     "text": [
      "     Ad Group              Keyword   Campaign Criterion Type\n",
      "0       sofas       sofas purchase  Campaign1          Exact\n",
      "1    purchase       purchase sofas  Campaign1          Exact\n",
      "2       sofas           sofas sale  Campaign1          Exact\n",
      "3        sale           sale sofas  Campaign1          Exact\n",
      "4       sofas        sofas bargain  Campaign1          Exact\n",
      "..        ...                  ...        ...            ...\n",
      "85   low cost   low cost sofa beds  Campaign1          Exact\n",
      "86  sofa beds  sofa beds low price  Campaign1          Exact\n",
      "87  low price  low price sofa beds  Campaign1          Exact\n",
      "88  sofa beds     sofa beds budget  Campaign1          Exact\n",
      "89     budget     budget sofa beds  Campaign1          Exact\n",
      "\n",
      "[90 rows x 4 columns]\n"
     ]
    }
   ],
   "source": [
    "keywords_df.insert(3,'Criterion Type','Exact')\n",
    "print(keywords_df)"
   ]
  },
  {
   "cell_type": "markdown",
   "metadata": {},
   "source": [
    "The great thing about exact match is that it is very specific, and we can control the process very well. The tradeoff, however, is that:\n",
    "\n",
    "The search volume for exact match is lower than other match types\n",
    "We can't possibly think of all the ways in which people search, and so, we are probably missing out on some high-quality keywords.\n",
    "So it's good to use another match called phrase match as a discovery mechanism to allow our ads to be triggered by keywords that include our exact match keywords, together with anything before (or after) them."
   ]
  },
  {
   "cell_type": "code",
   "execution_count": 32,
   "metadata": {},
   "outputs": [],
   "source": [
    "# Making a copy of the keywords DataFrame\n",
    "keywords_phrase = keywords_df.copy()\n",
    "\n",
    "keywords_phrase['Criterion Type'] = 'Phrase' "
   ]
  },
  {
   "cell_type": "code",
   "execution_count": 33,
   "metadata": {},
   "outputs": [
    {
     "name": "stdout",
     "output_type": "stream",
     "text": [
      "     Ad Group              Keyword   Campaign Criterion Type\n",
      "0       sofas       sofas purchase  Campaign1          Exact\n",
      "1    purchase       purchase sofas  Campaign1          Exact\n",
      "2       sofas           sofas sale  Campaign1          Exact\n",
      "3        sale           sale sofas  Campaign1          Exact\n",
      "4       sofas        sofas bargain  Campaign1          Exact\n",
      "..        ...                  ...        ...            ...\n",
      "85   low cost   low cost sofa beds  Campaign1          Exact\n",
      "86  sofa beds  sofa beds low price  Campaign1          Exact\n",
      "87  low price  low price sofa beds  Campaign1          Exact\n",
      "88  sofa beds     sofa beds budget  Campaign1          Exact\n",
      "89     budget     budget sofa beds  Campaign1          Exact\n",
      "\n",
      "[90 rows x 4 columns]\n"
     ]
    }
   ],
   "source": [
    "# Appending the DataFrames\n",
    "keywords_df_final = keywords_df.append(keywords_phrase)\n",
    "\n",
    "print(keywords_df)"
   ]
  },
  {
   "cell_type": "code",
   "execution_count": 34,
   "metadata": {},
   "outputs": [],
   "source": [
    "### saving the work in a new csv file"
   ]
  },
  {
   "cell_type": "code",
   "execution_count": 35,
   "metadata": {},
   "outputs": [
    {
     "name": "stdout",
     "output_type": "stream",
     "text": [
      "Ad Group           Criterion Type\n",
      "affordable         Exact             5\n",
      "                   Phrase            5\n",
      "bargain            Exact             5\n",
      "                   Phrase            5\n",
      "budget             Exact             5\n",
      "                   Phrase            5\n",
      "convertible sofas  Exact             9\n",
      "                   Phrase            9\n",
      "ecommerce          Exact             5\n",
      "                   Phrase            5\n",
      "love seats         Exact             9\n",
      "                   Phrase            9\n",
      "low cost           Exact             5\n",
      "                   Phrase            5\n",
      "low price          Exact             5\n",
      "                   Phrase            5\n",
      "purchase           Exact             5\n",
      "                   Phrase            5\n",
      "recliners          Exact             9\n",
      "                   Phrase            9\n",
      "sale               Exact             5\n",
      "                   Phrase            5\n",
      "shop online        Exact             5\n",
      "                   Phrase            5\n",
      "sofa beds          Exact             9\n",
      "                   Phrase            9\n",
      "sofas              Exact             9\n",
      "                   Phrase            9\n",
      "Name: Keyword, dtype: int64\n"
     ]
    }
   ],
   "source": [
    "keywords_df_final.to_csv('keywords.csv',index=False)\n",
    "# View a summary of our campaign work\n",
    "summary = keywords_df_final.groupby(['Ad Group', 'Criterion Type'])['Keyword'].count()\n",
    "print(summary)"
   ]
  },
  {
   "cell_type": "code",
   "execution_count": null,
   "metadata": {},
   "outputs": [],
   "source": []
  },
  {
   "cell_type": "code",
   "execution_count": null,
   "metadata": {},
   "outputs": [],
   "source": []
  },
  {
   "cell_type": "code",
   "execution_count": null,
   "metadata": {},
   "outputs": [],
   "source": []
  }
 ],
 "metadata": {
  "kernelspec": {
   "display_name": "Python 3",
   "language": "python",
   "name": "python3"
  },
  "language_info": {
   "codemirror_mode": {
    "name": "ipython",
    "version": 3
   },
   "file_extension": ".py",
   "mimetype": "text/x-python",
   "name": "python",
   "nbconvert_exporter": "python",
   "pygments_lexer": "ipython3",
   "version": "3.7.6"
  }
 },
 "nbformat": 4,
 "nbformat_minor": 4
}
